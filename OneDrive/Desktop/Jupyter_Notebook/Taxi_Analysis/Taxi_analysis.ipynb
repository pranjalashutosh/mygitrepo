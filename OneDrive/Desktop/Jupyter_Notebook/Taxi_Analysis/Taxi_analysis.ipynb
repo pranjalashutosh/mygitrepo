{
 "cells": [
  {
   "cell_type": "code",
   "execution_count": 17,
   "id": "35f54f4f-2678-40bb-b074-5b880d328fc7",
   "metadata": {},
   "outputs": [],
   "source": [
    "import numpy as np"
   ]
  },
  {
   "cell_type": "code",
   "execution_count": 18,
   "id": "8634186c-e153-4390-82d9-162750443eae",
   "metadata": {},
   "outputs": [],
   "source": [
    "taxi = np.genfromtxt('nyc_taxis.csv', delimiter = ',', skip_header=True)"
   ]
  },
  {
   "cell_type": "code",
   "execution_count": 19,
   "id": "b8e6e407-363e-4ecd-8e10-c5a6338cbe10",
   "metadata": {},
   "outputs": [],
   "source": [
    "speed = taxi[:,7] / (taxi[:,8]/3600)"
   ]
  },
  {
   "cell_type": "code",
   "execution_count": 20,
   "id": "978253e8-573d-49f4-b104-1120763ebe77",
   "metadata": {},
   "outputs": [
    {
     "name": "stdout",
     "output_type": "stream",
     "text": [
      "32.24258580925573\n"
     ]
    }
   ],
   "source": [
    "avg_speed = speed.mean()\n",
    "print(avg_speed)"
   ]
  },
  {
   "cell_type": "code",
   "execution_count": 23,
   "id": "779d0699-d099-46f2-87c0-653fc0e0dc9c",
   "metadata": {},
   "outputs": [],
   "source": [
    "months = taxi[:,1] ==2 "
   ]
  },
  {
   "cell_type": "code",
   "execution_count": 27,
   "id": "9a4ba812-bcd4-45ba-8d4e-81481b67e7e4",
   "metadata": {},
   "outputs": [
    {
     "name": "stdout",
     "output_type": "stream",
     "text": [
      "13333\n"
     ]
    }
   ],
   "source": [
    "c=0\n",
    "for item in months:\n",
    "    if item==True:\n",
    "        c=c+1\n",
    "print(c)"
   ]
  },
  {
   "cell_type": "code",
   "execution_count": 32,
   "id": "e1ec3a71-a61c-4f82-9587-be17bdce0796",
   "metadata": {},
   "outputs": [],
   "source": [
    "month=taxi[taxi[:,1]==2,1]"
   ]
  },
  {
   "cell_type": "code",
   "execution_count": 33,
   "id": "73455c02-c479-4b31-96f1-d1693ef13be3",
   "metadata": {},
   "outputs": [
    {
     "data": {
      "text/plain": [
       "array([2., 2., 2., ..., 2., 2., 2.])"
      ]
     },
     "execution_count": 33,
     "metadata": {},
     "output_type": "execute_result"
    }
   ],
   "source": [
    "month"
   ]
  },
  {
   "cell_type": "code",
   "execution_count": 34,
   "id": "3dc8e54a-ecb7-4437-9fd8-4f50dd76aa33",
   "metadata": {},
   "outputs": [
    {
     "data": {
      "text/plain": [
       "(13333,)"
      ]
     },
     "execution_count": 34,
     "metadata": {},
     "output_type": "execute_result"
    }
   ],
   "source": [
    "month.shape"
   ]
  },
  {
   "cell_type": "code",
   "execution_count": 53,
   "id": "913fe4b9-c78e-4ac6-950d-e7ef74526fe6",
   "metadata": {},
   "outputs": [],
   "source": [
    "tip_amt=taxi[taxi[:,12]>50,12]"
   ]
  },
  {
   "cell_type": "code",
   "execution_count": 55,
   "id": "360070bc-42da-403f-a0f9-3ce0ea101e35",
   "metadata": {},
   "outputs": [
    {
     "data": {
      "text/plain": [
       "16"
      ]
     },
     "execution_count": 55,
     "metadata": {},
     "output_type": "execute_result"
    }
   ],
   "source": [
    "tip_amt.shape[0]"
   ]
  },
  {
   "cell_type": "code",
   "execution_count": 58,
   "id": "5af567ad-ebef-47e1-b234-4c48c8f3d597",
   "metadata": {},
   "outputs": [],
   "source": [
    "drop=taxi[taxi[:,6]==2,6]"
   ]
  },
  {
   "cell_type": "code",
   "execution_count": 59,
   "id": "d0a2f4ed-91c3-4211-b0a5-15db5ec51f5e",
   "metadata": {},
   "outputs": [
    {
     "name": "stdout",
     "output_type": "stream",
     "text": [
      "11832\n"
     ]
    }
   ],
   "source": [
    "print(drop.shape[0])"
   ]
  },
  {
   "cell_type": "code",
   "execution_count": null,
   "id": "e1b09be1-216e-4d80-93af-5d1ac876cb68",
   "metadata": {},
   "outputs": [],
   "source": []
  }
 ],
 "metadata": {
  "kernelspec": {
   "display_name": "Python 3 (ipykernel)",
   "language": "python",
   "name": "python3"
  },
  "language_info": {
   "codemirror_mode": {
    "name": "ipython",
    "version": 3
   },
   "file_extension": ".py",
   "mimetype": "text/x-python",
   "name": "python",
   "nbconvert_exporter": "python",
   "pygments_lexer": "ipython3",
   "version": "3.12.0"
  }
 },
 "nbformat": 4,
 "nbformat_minor": 5
}
